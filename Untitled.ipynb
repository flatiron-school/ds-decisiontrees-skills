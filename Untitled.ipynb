{
 "cells": [
  {
   "cell_type": "markdown",
   "metadata": {},
   "source": [
    "# Classification with Decision Trees"
   ]
  },
  {
   "cell_type": "markdown",
   "metadata": {},
   "source": [
    "Decision trees are tree structured (i.e. having a hierarchy), supervised learning algorithm that are mostly used in classification problems. It works for both categorical and continuous input and output variables. In this technique, we split the data into two or more homogeneous sets based on most significant differentiator in input variables. A decision tree can be used to visually and explicitly represent decisions and decision making so it remains highly explainable. DTs are highly popular tools in data mining, statistics for deriving a strategy to reach a particular goal. In this lesson, we shall focus on predictive abilities of a decision tree in the context of Machine Learning. \n",
    "\n",
    "Following is a simple decision tree highlighting and visualizing decisions that most of us have to make every morning :)\n",
    "\n",
    "![](exampletree.jpg)\n",
    "\n",
    "\n"
   ]
  },
  {
   "cell_type": "markdown",
   "metadata": {},
   "source": [
    "## Decision Tree Terminology\n",
    "\n",
    "Following the intuition from the above figure, let's try to identify different nodes/edges and levels of heirarchy in a tree. \n",
    "\n",
    "\n",
    "#### Root Node: \n",
    "A root node is a the top of hierarchy and is responisble for creating a first split on the given data. It divides the data based on two or more homogeneous sets (depending upon classes in the given variable).\n",
    "#### Splitting: \n",
    "Splitting is the term given to the process of dividing a node into two or more sub-nodes.\n",
    "#### Decision Node: \n",
    "The decision node (in yellow below) decides whether to split the data into further sub-nodes or not\n",
    "#### Leaf: \n",
    "Leaf nodes exist at the lowest end on the hierachy in a brach and do not split any further highlighting that the model can not go any further. \n",
    "\n"
   ]
  },
  {
   "cell_type": "markdown",
   "metadata": {},
   "source": [
    "![](tree_term.jpg)"
   ]
  },
  {
   "cell_type": "markdown",
   "metadata": {},
   "source": [
    "## Building a decision tree\n",
    "\n",
    "The process of training a decision tree and predicting the target features is as follows:\n",
    "\n",
    "1. Present a dataset containing of a number of training instances characterized by a number of descriptive features and a target feature.\n",
    "\n",
    "2. Train the decision tree model by continuously splitting the target feature along the values of the descriptive features using a measure of information gain during the training process.\n",
    "\n",
    "3. Grow the tree until we accomplish a stopping criteria i.e. create leaf nodes which represent the predictions we want to make for a new instance.\n",
    "\n",
    "4. Show new instances to the tree and run down the tree until we arrive at leaf nodes.\n",
    "\n",
    "5. DONE.\n",
    "\n",
    "![](dtprocess.png)\n",
    "\n",
    "From above figure , following provides a good intuition for building a decision tree. \n",
    "\n",
    ">*Given a dataset, train a model which learns the relationship between the descriptive features and a target feature. We can then present the model with new, unseen instances and predict the target feature values for these.*\n",
    "\n",
    "At this stage, it must be highlighted that selection of root nodes and splitting decisions are not totally random processes. We need to take a quick dive into some simple mathematics around informatiom theoratic concepts of **ENTROPY** and **INFORMATION GAIN** which would help us answer following questions. \n",
    "\n",
    "* Which attribute should be chosen as for being the Root/Parent Node?\n",
    "* When should we split / not split the data any further ?\n",
    "\n",
    "You should also remember that decision trees can be used for classification as well as regression problems. In this lab, we are focusing on classification only as regression will be covered during a later session. "
   ]
  },
  {
   "cell_type": "markdown",
   "metadata": {},
   "source": [
    "## Entropy\n",
    "\n",
    "Entropy is a measure of uncertainty, and highlights unpredictability of a state, or equivalently, of its average information content. Entropy is a statistical metric that measures the impurity. Given a dataset S, which contains two classes: Positive and Negative, of some arbitrary target concept, entropy with respect to this boolean classification is:\n",
    "\n",
    ">** Entropy(S) = -p(positive)log2 p(positive) — p(negative) log2 p(negative)**\n",
    "\n",
    "where \n",
    "\n",
    "* p(positive) is the probability of positive examples in S.\n",
    "\n",
    "* p(negative) is the proportion of negative examples in S. \n",
    "\n",
    "**Notice that the entropy is 0 if all members of S belong to the same class. For example, if all members are positive (p+ = 1), then p- is 0, and Entropy(S) = -1. log2(1) – 0. log2 0 = -1. 0 – 0. log2 0 = 0.**\n",
    "\n",
    "The entropy is 1 when the collection contains an equal number of positive and negative examples.\n",
    "\n",
    "If the collection contains unequal numbers of positive and negative examples, the entropy is between 0 and 1.\n",
    "\n",
    "![](ent_prob.png)\n",
    "\n",
    "Another intuition for understanding entropy is that, entropy specifies the minimum number of bits required to encode the classification of any member of a collection S. In general the entropy of a variable x is given as:\n",
    "![](ent.jpg)"
   ]
  },
  {
   "cell_type": "markdown",
   "metadata": {},
   "source": [
    "## Information Gain\n",
    "\n",
    "Information gain is a metric that measures the expected reduction in the impurity of the collection S, caused by splitting the data according to any given attribute. Whilst building the decision tree, the information gain metric is used to select the best attribute i.e. the attribute the provides the “best split” at each level.\n",
    "\n",
    "IG measures the expected reduction in entropy and decides which attribute goes into a decision node. To minimise the decision tree depth, the attribute with the most entropy reduction is chosen by the DT algorithm.\n",
    "\n",
    "More precisely, the information gain Gain(S, A) of an attribute A relative to a collection of examples S is defined as:\n",
    "![](IG.png)\n",
    "\n",
    "* S = Each value v of all possible values of attribute A\n",
    "* Sv = Subset of S for which attribute A has value v\n",
    "* |Sv| = Number of elements in Sv\n",
    "* |S| = Number of elements in S\n"
   ]
  },
  {
   "cell_type": "markdown",
   "metadata": {},
   "source": [
    "Let's see above mathamatical descriptions in action with a simple decision \"SHOULD I PLAY BASEBALL?\" as shown below:"
   ]
  },
  {
   "cell_type": "code",
   "execution_count": 31,
   "metadata": {},
   "outputs": [
    {
     "name": "stdout",
     "output_type": "stream",
     "text": [
      "    Day   Outlook Temperature Humidity    Wind Should I play baseball?\n",
      "0    D1     Sunny         Hot     High    Weak                      No\n",
      "1    D2     Sunny         Hot     High  Strong                      No\n",
      "2    D3  Overcast         Hot     High    Weak                     Yes\n",
      "3    D4      Rain        Mild     High    Weak                     Yes\n",
      "4    D5      Rain        Cool   Normal    Weak                     Yes\n",
      "5    D6      Rain        Cool   Normal  Strong                      No\n",
      "6    D7  Overcast        Cool   Normal  Strong                     Yes\n",
      "7    D8     Sunny        Mild     High    Weak                      No\n",
      "8    D9     Sunny        Cool   Normal    Weak                     Yes\n",
      "9   D10      Rain        Mild   Normal    Weak                     Yes\n",
      "10  D11     Sunny        Mild   Normal  Strong                     Yes\n",
      "11  D12  Overcast        Mild     High  Strong                     Yes\n",
      "12  D13  Overcast         Hot   Normal    Weak                     Yes\n",
      "13  D14      Rain        Mild     High  Strong                      No\n"
     ]
    }
   ],
   "source": [
    "import pandas as pd \n",
    "baseball = pd.read_csv('baseball.csv', header = 1)\n",
    "baseball.columns\n",
    "print(baseball)"
   ]
  },
  {
   "cell_type": "code",
   "execution_count": 32,
   "metadata": {},
   "outputs": [
    {
     "data": {
      "text/html": [
       "<div>\n",
       "<style scoped>\n",
       "    .dataframe tbody tr th:only-of-type {\n",
       "        vertical-align: middle;\n",
       "    }\n",
       "\n",
       "    .dataframe tbody tr th {\n",
       "        vertical-align: top;\n",
       "    }\n",
       "\n",
       "    .dataframe thead th {\n",
       "        text-align: right;\n",
       "    }\n",
       "</style>\n",
       "<table border=\"1\" class=\"dataframe\">\n",
       "  <thead>\n",
       "    <tr style=\"text-align: right;\">\n",
       "      <th></th>\n",
       "      <th>Day</th>\n",
       "      <th>Outlook</th>\n",
       "      <th>Temperature</th>\n",
       "      <th>Humidity</th>\n",
       "      <th>Wind</th>\n",
       "      <th>Should I play baseball?</th>\n",
       "    </tr>\n",
       "  </thead>\n",
       "  <tbody>\n",
       "    <tr>\n",
       "      <th>count</th>\n",
       "      <td>14</td>\n",
       "      <td>14</td>\n",
       "      <td>14</td>\n",
       "      <td>14</td>\n",
       "      <td>14</td>\n",
       "      <td>14</td>\n",
       "    </tr>\n",
       "    <tr>\n",
       "      <th>unique</th>\n",
       "      <td>14</td>\n",
       "      <td>3</td>\n",
       "      <td>3</td>\n",
       "      <td>2</td>\n",
       "      <td>2</td>\n",
       "      <td>2</td>\n",
       "    </tr>\n",
       "    <tr>\n",
       "      <th>top</th>\n",
       "      <td>D9</td>\n",
       "      <td>Sunny</td>\n",
       "      <td>Mild</td>\n",
       "      <td>Normal</td>\n",
       "      <td>Weak</td>\n",
       "      <td>Yes</td>\n",
       "    </tr>\n",
       "    <tr>\n",
       "      <th>freq</th>\n",
       "      <td>1</td>\n",
       "      <td>5</td>\n",
       "      <td>6</td>\n",
       "      <td>7</td>\n",
       "      <td>8</td>\n",
       "      <td>9</td>\n",
       "    </tr>\n",
       "  </tbody>\n",
       "</table>\n",
       "</div>"
      ],
      "text/plain": [
       "       Day Outlook Temperature Humidity  Wind Should I play baseball?\n",
       "count   14      14          14       14    14                      14\n",
       "unique  14       3           3        2     2                       2\n",
       "top     D9   Sunny        Mild   Normal  Weak                     Yes\n",
       "freq     1       5           6        7     8                       9"
      ]
     },
     "execution_count": 32,
     "metadata": {},
     "output_type": "execute_result"
    }
   ],
   "source": [
    "for column in baseball.columns:\n",
    "    baseball[column] = baseball[column].astype('category')\n",
    "baseball.describe()"
   ]
  },
  {
   "cell_type": "markdown",
   "metadata": {},
   "source": [
    "We need to find which attribute will be the root node in our decision tree.\n",
    "\n",
    "STEP 1 : Calculate the total entropy"
   ]
  },
  {
   "cell_type": "code",
   "execution_count": 33,
   "metadata": {},
   "outputs": [
    {
     "data": {
      "text/plain": [
       "Yes    9\n",
       "No     5\n",
       "Name: Should I play baseball?, dtype: int64"
      ]
     },
     "execution_count": 33,
     "metadata": {},
     "output_type": "execute_result"
    }
   ],
   "source": [
    "baseball['Should I play baseball?'].value_counts()"
   ]
  },
  {
   "cell_type": "markdown",
   "metadata": {},
   "source": [
    "### Initial Entropy"
   ]
  },
  {
   "cell_type": "code",
   "execution_count": 34,
   "metadata": {},
   "outputs": [
    {
     "name": "stdout",
     "output_type": "stream",
     "text": [
      "0.9402859586706309\n"
     ]
    }
   ],
   "source": [
    "import math\n",
    "Ent_S = -(9/14)*math.log((9/14),2) - (5/14)*math.log((5/14),2) \n",
    "print (Ent_S)"
   ]
  },
  {
   "cell_type": "markdown",
   "metadata": {},
   "source": [
    "### The Root Node"
   ]
  },
  {
   "cell_type": "markdown",
   "metadata": {},
   "source": [
    "Check out Wind to be root node:"
   ]
  },
  {
   "cell_type": "code",
   "execution_count": 35,
   "metadata": {},
   "outputs": [
    {
     "data": {
      "text/plain": [
       "Weak      8\n",
       "Strong    6\n",
       "Name: Wind, dtype: int64"
      ]
     },
     "execution_count": 35,
     "metadata": {},
     "output_type": "execute_result"
    }
   ],
   "source": [
    "baseball['Wind'].value_counts()"
   ]
  },
  {
   "cell_type": "code",
   "execution_count": 41,
   "metadata": {},
   "outputs": [
    {
     "name": "stdout",
     "output_type": "stream",
     "text": [
      "0.8112781244591328\n",
      "1.0\n"
     ]
    }
   ],
   "source": [
    "Entropy_S_weak = - (6/8)*math.log((6/8),2) - (2/8)*math.log((2/8),2) \n",
    "print (Entropy_S_weak )\n",
    "Entropy_S_strong = - (3/6)*math.log((3/6),2) - (3/6)*math.log((3/6),2)\n",
    "print (Entropy_S_strong)\n",
    "\n",
    "Gain_S_wind = Ent_S - (8/14)* Entropy_S_weak - (6/14)* Entropy_S_strong\n"
   ]
  },
  {
   "cell_type": "code",
   "execution_count": 42,
   "metadata": {},
   "outputs": [
    {
     "data": {
      "text/plain": [
       "0.04812703040826932"
      ]
     },
     "execution_count": 42,
     "metadata": {},
     "output_type": "execute_result"
    }
   ],
   "source": [
    "Gain_S_wind "
   ]
  },
  {
   "cell_type": "code",
   "execution_count": 46,
   "metadata": {},
   "outputs": [],
   "source": [
    "Gain_S_outlook = 0.246\n",
    "Gain_S_temperature = 0.029\n",
    "Gain_S_humidity = 0.151"
   ]
  },
  {
   "cell_type": "markdown",
   "metadata": {},
   "source": [
    "Clearly, the outlook attribute has the highest gain. Therefore, it is used as the decision attribute in the root node."
   ]
  },
  {
   "cell_type": "code",
   "execution_count": 47,
   "metadata": {},
   "outputs": [
    {
     "data": {
      "text/plain": [
       "Sunny       5\n",
       "Rain        5\n",
       "Overcast    4\n",
       "Name: Outlook, dtype: int64"
      ]
     },
     "execution_count": 47,
     "metadata": {},
     "output_type": "execute_result"
    }
   ],
   "source": [
    "baseball['Outlook'].value_counts()"
   ]
  },
  {
   "cell_type": "markdown",
   "metadata": {},
   "source": [
    "Since outlook has three possible values, the root node has three branches (sunny, overcast, rain). \n",
    "\n",
    "The next question is, What attribute should be tested at the sunny branch node? Since we've used outlook at the root, we only decide on the remaining three attributes: humidity, temperature, or wind."
   ]
  },
  {
   "cell_type": "markdown",
   "metadata": {},
   "source": [
    "Ssunny = {D1, D2, D8, D9, D11} = 5 examples from the table with outlook = sunny\n",
    "\n",
    "Gain_Ssunny_humidity = 0.970\n",
    "\n",
    "Gain_Ssunny_temperature = 0.570\n",
    "\n",
    "Gain_Ssunny_Wind = 0.019"
   ]
  },
  {
   "cell_type": "markdown",
   "metadata": {},
   "source": [
    "Humidity has the highest gain; therefore, it is used as the decision node. This process goes on until all data is classified perfectly or we run out of attributes."
   ]
  },
  {
   "cell_type": "markdown",
   "metadata": {},
   "source": [
    "![](finaltree.gif)"
   ]
  },
  {
   "cell_type": "markdown",
   "metadata": {},
   "source": [
    "The decision tree can also be expressed in rule format:\n",
    "\n",
    "IF `outlook = sunny` AND `humidity = high` THEN `play baseball = no`\n",
    "\n",
    "IF `outlook = rain` AND `humidity = high` THEN `play baseball = no`\n",
    "\n",
    "IF `outlook = rain` AND `wind = strong` THEN `play baseball = yes`\n",
    "\n",
    "IF `outlook = overcast` THEN `play baseball = yes`\n",
    "\n",
    "IF `outlook = rain` AND `wind = weak` THEN `play baseball = yes`"
   ]
  },
  {
   "cell_type": "markdown",
   "metadata": {},
   "source": [
    "That’s all mathematical understanding you need to understand Decision Tree. If you think this concept is overwhelming then don’t be. Take it as a learning process like any other skills to learn you need to give some Time & constant Motivation."
   ]
  },
  {
   "cell_type": "code",
   "execution_count": 51,
   "metadata": {},
   "outputs": [
    {
     "ename": "SyntaxError",
     "evalue": "invalid syntax (<ipython-input-51-491b2b1799f1>, line 16)",
     "output_type": "error",
     "traceback": [
      "\u001b[0;36m  File \u001b[0;32m\"<ipython-input-51-491b2b1799f1>\"\u001b[0;36m, line \u001b[0;32m16\u001b[0m\n\u001b[0;31m    graph.\u001b[0m\n\u001b[0m          ^\u001b[0m\n\u001b[0;31mSyntaxError\u001b[0m\u001b[0;31m:\u001b[0m invalid syntax\n"
     ]
    }
   ],
   "source": [
    "from sklearn.datasets import *\n",
    "from sklearn import tree\n",
    "import graphviz \n",
    "\n",
    "wine = load_wine() #import dataset\n",
    "clf = tree.DecisionTreeClassifier() # init the tree\n",
    "clf = clf.fit(wine.data, wine.target) # Train the tree\n",
    "# export the trained decision tree\n",
    "dot_data = tree.export_graphviz(clf, out_file=None,\n",
    "                         feature_names=wine.feature_names,\n",
    "                         class_names=wine.target_names,\n",
    "                         filled=True, rounded=True,\n",
    "                         special_characters=True)\n",
    "graph = graphviz.Source(dot_data)\n",
    "graph.render(\"wine\") # tree saved to wine.pdf\n"
   ]
  },
  {
   "cell_type": "code",
   "execution_count": 52,
   "metadata": {},
   "outputs": [
    {
     "data": {
      "image/svg+xml": [
       "<?xml version=\"1.0\" encoding=\"UTF-8\" standalone=\"no\"?>\n",
       "<!DOCTYPE svg PUBLIC \"-//W3C//DTD SVG 1.1//EN\"\n",
       " \"http://www.w3.org/Graphics/SVG/1.1/DTD/svg11.dtd\">\n",
       "<!-- Generated by graphviz version 2.40.1 (20161225.0304)\n",
       " -->\n",
       "<!-- Title: Tree Pages: 1 -->\n",
       "<svg width=\"984pt\" height=\"671pt\"\n",
       " viewBox=\"0.00 0.00 984.00 671.00\" xmlns=\"http://www.w3.org/2000/svg\" xmlns:xlink=\"http://www.w3.org/1999/xlink\">\n",
       "<g id=\"graph0\" class=\"graph\" transform=\"scale(1 1) rotate(0) translate(4 667)\">\n",
       "<title>Tree</title>\n",
       "<polygon fill=\"#ffffff\" stroke=\"transparent\" points=\"-4,4 -4,-667 980,-667 980,4 -4,4\"/>\n",
       "<!-- 0 -->\n",
       "<g id=\"node1\" class=\"node\">\n",
       "<title>0</title>\n",
       "<path fill=\"#39e581\" fill-opacity=\"0.101961\" stroke=\"#000000\" d=\"M561,-663C561,-663 479,-663 479,-663 473,-663 467,-657 467,-651 467,-651 467,-592 467,-592 467,-586 473,-580 479,-580 479,-580 561,-580 561,-580 567,-580 573,-586 573,-592 573,-592 573,-651 573,-651 573,-657 567,-663 561,-663\"/>\n",
       "<text text-anchor=\"start\" x=\"485\" y=\"-647.8\" font-family=\"Helvetica,sans-Serif\" font-size=\"14.00\" fill=\"#000000\">proline ≤ 755.0</text>\n",
       "<text text-anchor=\"start\" x=\"492.5\" y=\"-632.8\" font-family=\"Helvetica,sans-Serif\" font-size=\"14.00\" fill=\"#000000\">gini = 0.658</text>\n",
       "<text text-anchor=\"start\" x=\"485.5\" y=\"-617.8\" font-family=\"Helvetica,sans-Serif\" font-size=\"14.00\" fill=\"#000000\">samples = 178</text>\n",
       "<text text-anchor=\"start\" x=\"475\" y=\"-602.8\" font-family=\"Helvetica,sans-Serif\" font-size=\"14.00\" fill=\"#000000\">value = [59, 71, 48]</text>\n",
       "<text text-anchor=\"start\" x=\"484\" y=\"-587.8\" font-family=\"Helvetica,sans-Serif\" font-size=\"14.00\" fill=\"#000000\">class = class_1</text>\n",
       "</g>\n",
       "<!-- 1 -->\n",
       "<g id=\"node2\" class=\"node\">\n",
       "<title>1</title>\n",
       "<path fill=\"#39e581\" fill-opacity=\"0.360784\" stroke=\"#000000\" d=\"M499,-544C499,-544 323,-544 323,-544 317,-544 311,-538 311,-532 311,-532 311,-473 311,-473 311,-467 317,-461 323,-461 323,-461 499,-461 499,-461 505,-461 511,-467 511,-473 511,-473 511,-532 511,-532 511,-538 505,-544 499,-544\"/>\n",
       "<text text-anchor=\"start\" x=\"319\" y=\"-528.8\" font-family=\"Helvetica,sans-Serif\" font-size=\"14.00\" fill=\"#000000\">od280/od315_of_diluted_wines ≤ 2.115</text>\n",
       "<text text-anchor=\"start\" x=\"383.5\" y=\"-513.8\" font-family=\"Helvetica,sans-Serif\" font-size=\"14.00\" fill=\"#000000\">gini = 0.492</text>\n",
       "<text text-anchor=\"start\" x=\"376.5\" y=\"-498.8\" font-family=\"Helvetica,sans-Serif\" font-size=\"14.00\" fill=\"#000000\">samples = 111</text>\n",
       "<text text-anchor=\"start\" x=\"369\" y=\"-483.8\" font-family=\"Helvetica,sans-Serif\" font-size=\"14.00\" fill=\"#000000\">value = [2, 67, 42]</text>\n",
       "<text text-anchor=\"start\" x=\"375\" y=\"-468.8\" font-family=\"Helvetica,sans-Serif\" font-size=\"14.00\" fill=\"#000000\">class = class_1</text>\n",
       "</g>\n",
       "<!-- 0&#45;&gt;1 -->\n",
       "<g id=\"edge1\" class=\"edge\">\n",
       "<title>0&#45;&gt;1</title>\n",
       "<path fill=\"none\" stroke=\"#000000\" d=\"M481.8771,-579.8796C473.5451,-570.7832 464.6502,-561.0722 456.0761,-551.7116\"/>\n",
       "<polygon fill=\"#000000\" stroke=\"#000000\" points=\"458.6211,-549.3081 449.2856,-544.2981 453.4592,-554.0363 458.6211,-549.3081\"/>\n",
       "<text text-anchor=\"middle\" x=\"448.1902\" y=\"-565.5741\" font-family=\"Helvetica,sans-Serif\" font-size=\"14.00\" fill=\"#000000\">True</text>\n",
       "</g>\n",
       "<!-- 16 -->\n",
       "<g id=\"node17\" class=\"node\">\n",
       "<title>16</title>\n",
       "<path fill=\"#e58139\" fill-opacity=\"0.835294\" stroke=\"#000000\" d=\"M689,-544C689,-544 611,-544 611,-544 605,-544 599,-538 599,-532 599,-532 599,-473 599,-473 599,-467 605,-461 611,-461 611,-461 689,-461 689,-461 695,-461 701,-467 701,-473 701,-473 701,-532 701,-532 701,-538 695,-544 689,-544\"/>\n",
       "<text text-anchor=\"start\" x=\"607\" y=\"-528.8\" font-family=\"Helvetica,sans-Serif\" font-size=\"14.00\" fill=\"#000000\">flavanoids ≤ 2.165</text>\n",
       "<text text-anchor=\"start\" x=\"622.5\" y=\"-513.8\" font-family=\"Helvetica,sans-Serif\" font-size=\"14.00\" fill=\"#000000\">gini = 0.265</text>\n",
       "<text text-anchor=\"start\" x=\"618.5\" y=\"-498.8\" font-family=\"Helvetica,sans-Serif\" font-size=\"14.00\" fill=\"#000000\">samples = 67</text>\n",
       "<text text-anchor=\"start\" x=\"611\" y=\"-483.8\" font-family=\"Helvetica,sans-Serif\" font-size=\"14.00\" fill=\"#000000\">value = [57, 4, 6]</text>\n",
       "<text text-anchor=\"start\" x=\"614\" y=\"-468.8\" font-family=\"Helvetica,sans-Serif\" font-size=\"14.00\" fill=\"#000000\">class = class_0</text>\n",
       "</g>\n",
       "<!-- 0&#45;&gt;16 -->\n",
       "<g id=\"edge16\" class=\"edge\">\n",
       "<title>0&#45;&gt;16</title>\n",
       "<path fill=\"none\" stroke=\"#000000\" d=\"M565.4677,-579.8796C575.6017,-570.6031 586.434,-560.6874 596.8465,-551.1559\"/>\n",
       "<polygon fill=\"#000000\" stroke=\"#000000\" points=\"599.3252,-553.6319 604.3382,-544.2981 594.5987,-548.4685 599.3252,-553.6319\"/>\n",
       "<text text-anchor=\"middle\" x=\"603.2349\" y=\"-565.5737\" font-family=\"Helvetica,sans-Serif\" font-size=\"14.00\" fill=\"#000000\">False</text>\n",
       "</g>\n",
       "<!-- 2 -->\n",
       "<g id=\"node3\" class=\"node\">\n",
       "<title>2</title>\n",
       "<path fill=\"#8139e5\" fill-opacity=\"0.850980\" stroke=\"#000000\" d=\"M306,-425C306,-425 236,-425 236,-425 230,-425 224,-419 224,-413 224,-413 224,-354 224,-354 224,-348 230,-342 236,-342 236,-342 306,-342 306,-342 312,-342 318,-348 318,-354 318,-354 318,-413 318,-413 318,-419 312,-425 306,-425\"/>\n",
       "<text text-anchor=\"start\" x=\"243\" y=\"-409.8\" font-family=\"Helvetica,sans-Serif\" font-size=\"14.00\" fill=\"#000000\">hue ≤ 0.935</text>\n",
       "<text text-anchor=\"start\" x=\"243.5\" y=\"-394.8\" font-family=\"Helvetica,sans-Serif\" font-size=\"14.00\" fill=\"#000000\">gini = 0.227</text>\n",
       "<text text-anchor=\"start\" x=\"239.5\" y=\"-379.8\" font-family=\"Helvetica,sans-Serif\" font-size=\"14.00\" fill=\"#000000\">samples = 46</text>\n",
       "<text text-anchor=\"start\" x=\"232\" y=\"-364.8\" font-family=\"Helvetica,sans-Serif\" font-size=\"14.00\" fill=\"#000000\">value = [0, 6, 40]</text>\n",
       "<text text-anchor=\"start\" x=\"235\" y=\"-349.8\" font-family=\"Helvetica,sans-Serif\" font-size=\"14.00\" fill=\"#000000\">class = class_2</text>\n",
       "</g>\n",
       "<!-- 1&#45;&gt;2 -->\n",
       "<g id=\"edge2\" class=\"edge\">\n",
       "<title>1&#45;&gt;2</title>\n",
       "<path fill=\"none\" stroke=\"#000000\" d=\"M362.0348,-460.8796C350.3919,-450.9831 337.8931,-440.3591 326.0004,-430.2503\"/>\n",
       "<polygon fill=\"#000000\" stroke=\"#000000\" points=\"328.174,-427.5044 318.2878,-423.6946 323.6404,-432.8379 328.174,-427.5044\"/>\n",
       "</g>\n",
       "<!-- 9 -->\n",
       "<g id=\"node10\" class=\"node\">\n",
       "<title>9</title>\n",
       "<path fill=\"#39e581\" fill-opacity=\"0.937255\" stroke=\"#000000\" d=\"M450,-425C450,-425 372,-425 372,-425 366,-425 360,-419 360,-413 360,-413 360,-354 360,-354 360,-348 366,-342 372,-342 372,-342 450,-342 450,-342 456,-342 462,-348 462,-354 462,-354 462,-413 462,-413 462,-419 456,-425 450,-425\"/>\n",
       "<text text-anchor=\"start\" x=\"368\" y=\"-409.8\" font-family=\"Helvetica,sans-Serif\" font-size=\"14.00\" fill=\"#000000\">flavanoids ≤ 0.795</text>\n",
       "<text text-anchor=\"start\" x=\"383.5\" y=\"-394.8\" font-family=\"Helvetica,sans-Serif\" font-size=\"14.00\" fill=\"#000000\">gini = 0.117</text>\n",
       "<text text-anchor=\"start\" x=\"379.5\" y=\"-379.8\" font-family=\"Helvetica,sans-Serif\" font-size=\"14.00\" fill=\"#000000\">samples = 65</text>\n",
       "<text text-anchor=\"start\" x=\"372\" y=\"-364.8\" font-family=\"Helvetica,sans-Serif\" font-size=\"14.00\" fill=\"#000000\">value = [2, 61, 2]</text>\n",
       "<text text-anchor=\"start\" x=\"375\" y=\"-349.8\" font-family=\"Helvetica,sans-Serif\" font-size=\"14.00\" fill=\"#000000\">class = class_1</text>\n",
       "</g>\n",
       "<!-- 1&#45;&gt;9 -->\n",
       "<g id=\"edge9\" class=\"edge\">\n",
       "<title>1&#45;&gt;9</title>\n",
       "<path fill=\"none\" stroke=\"#000000\" d=\"M411,-460.8796C411,-452.6838 411,-443.9891 411,-435.5013\"/>\n",
       "<polygon fill=\"#000000\" stroke=\"#000000\" points=\"414.5001,-435.298 411,-425.2981 407.5001,-435.2981 414.5001,-435.298\"/>\n",
       "</g>\n",
       "<!-- 3 -->\n",
       "<g id=\"node4\" class=\"node\">\n",
       "<title>3</title>\n",
       "<path fill=\"#8139e5\" fill-opacity=\"0.972549\" stroke=\"#000000\" d=\"M190,-306C190,-306 118,-306 118,-306 112,-306 106,-300 106,-294 106,-294 106,-235 106,-235 106,-229 112,-223 118,-223 118,-223 190,-223 190,-223 196,-223 202,-229 202,-235 202,-235 202,-294 202,-294 202,-300 196,-306 190,-306\"/>\n",
       "<text text-anchor=\"start\" x=\"114\" y=\"-290.8\" font-family=\"Helvetica,sans-Serif\" font-size=\"14.00\" fill=\"#000000\">flavanoids ≤ 1.58</text>\n",
       "<text text-anchor=\"start\" x=\"126.5\" y=\"-275.8\" font-family=\"Helvetica,sans-Serif\" font-size=\"14.00\" fill=\"#000000\">gini = 0.049</text>\n",
       "<text text-anchor=\"start\" x=\"122.5\" y=\"-260.8\" font-family=\"Helvetica,sans-Serif\" font-size=\"14.00\" fill=\"#000000\">samples = 40</text>\n",
       "<text text-anchor=\"start\" x=\"115\" y=\"-245.8\" font-family=\"Helvetica,sans-Serif\" font-size=\"14.00\" fill=\"#000000\">value = [0, 1, 39]</text>\n",
       "<text text-anchor=\"start\" x=\"118\" y=\"-230.8\" font-family=\"Helvetica,sans-Serif\" font-size=\"14.00\" fill=\"#000000\">class = class_2</text>\n",
       "</g>\n",
       "<!-- 2&#45;&gt;3 -->\n",
       "<g id=\"edge3\" class=\"edge\">\n",
       "<title>2&#45;&gt;3</title>\n",
       "<path fill=\"none\" stroke=\"#000000\" d=\"M230.0791,-341.8796C221.047,-332.6931 211.3987,-322.8798 202.1112,-313.4336\"/>\n",
       "<polygon fill=\"#000000\" stroke=\"#000000\" points=\"204.6023,-310.975 195.0956,-306.2981 199.6107,-315.8827 204.6023,-310.975\"/>\n",
       "</g>\n",
       "<!-- 6 -->\n",
       "<g id=\"node7\" class=\"node\">\n",
       "<title>6</title>\n",
       "<path fill=\"#39e581\" fill-opacity=\"0.800000\" stroke=\"#000000\" d=\"M310,-306C310,-306 232,-306 232,-306 226,-306 220,-300 220,-294 220,-294 220,-235 220,-235 220,-229 226,-223 232,-223 232,-223 310,-223 310,-223 316,-223 322,-229 322,-235 322,-235 322,-294 322,-294 322,-300 316,-306 310,-306\"/>\n",
       "<text text-anchor=\"start\" x=\"228\" y=\"-290.8\" font-family=\"Helvetica,sans-Serif\" font-size=\"14.00\" fill=\"#000000\">flavanoids ≤ 0.565</text>\n",
       "<text text-anchor=\"start\" x=\"243.5\" y=\"-275.8\" font-family=\"Helvetica,sans-Serif\" font-size=\"14.00\" fill=\"#000000\">gini = 0.278</text>\n",
       "<text text-anchor=\"start\" x=\"242.5\" y=\"-260.8\" font-family=\"Helvetica,sans-Serif\" font-size=\"14.00\" fill=\"#000000\">samples = 6</text>\n",
       "<text text-anchor=\"start\" x=\"234.5\" y=\"-245.8\" font-family=\"Helvetica,sans-Serif\" font-size=\"14.00\" fill=\"#000000\">value = [0, 5, 1]</text>\n",
       "<text text-anchor=\"start\" x=\"235\" y=\"-230.8\" font-family=\"Helvetica,sans-Serif\" font-size=\"14.00\" fill=\"#000000\">class = class_1</text>\n",
       "</g>\n",
       "<!-- 2&#45;&gt;6 -->\n",
       "<g id=\"edge6\" class=\"edge\">\n",
       "<title>2&#45;&gt;6</title>\n",
       "<path fill=\"none\" stroke=\"#000000\" d=\"M271,-341.8796C271,-333.6838 271,-324.9891 271,-316.5013\"/>\n",
       "<polygon fill=\"#000000\" stroke=\"#000000\" points=\"274.5001,-316.298 271,-306.2981 267.5001,-316.2981 274.5001,-316.298\"/>\n",
       "</g>\n",
       "<!-- 4 -->\n",
       "<g id=\"node5\" class=\"node\">\n",
       "<title>4</title>\n",
       "<path fill=\"#8139e5\" stroke=\"#000000\" d=\"M82,-179.5C82,-179.5 12,-179.5 12,-179.5 6,-179.5 0,-173.5 0,-167.5 0,-167.5 0,-123.5 0,-123.5 0,-117.5 6,-111.5 12,-111.5 12,-111.5 82,-111.5 82,-111.5 88,-111.5 94,-117.5 94,-123.5 94,-123.5 94,-167.5 94,-167.5 94,-173.5 88,-179.5 82,-179.5\"/>\n",
       "<text text-anchor=\"start\" x=\"25.5\" y=\"-164.3\" font-family=\"Helvetica,sans-Serif\" font-size=\"14.00\" fill=\"#000000\">gini = 0.0</text>\n",
       "<text text-anchor=\"start\" x=\"15.5\" y=\"-149.3\" font-family=\"Helvetica,sans-Serif\" font-size=\"14.00\" fill=\"#000000\">samples = 39</text>\n",
       "<text text-anchor=\"start\" x=\"8\" y=\"-134.3\" font-family=\"Helvetica,sans-Serif\" font-size=\"14.00\" fill=\"#000000\">value = [0, 0, 39]</text>\n",
       "<text text-anchor=\"start\" x=\"11\" y=\"-119.3\" font-family=\"Helvetica,sans-Serif\" font-size=\"14.00\" fill=\"#000000\">class = class_2</text>\n",
       "</g>\n",
       "<!-- 3&#45;&gt;4 -->\n",
       "<g id=\"edge4\" class=\"edge\">\n",
       "<title>3&#45;&gt;4</title>\n",
       "<path fill=\"none\" stroke=\"#000000\" d=\"M116.5766,-222.8796C106.2939,-211.4436 95.1377,-199.0363 84.8321,-187.575\"/>\n",
       "<polygon fill=\"#000000\" stroke=\"#000000\" points=\"87.1435,-184.9108 77.8546,-179.8149 81.9382,-189.5912 87.1435,-184.9108\"/>\n",
       "</g>\n",
       "<!-- 5 -->\n",
       "<g id=\"node6\" class=\"node\">\n",
       "<title>5</title>\n",
       "<path fill=\"#39e581\" stroke=\"#000000\" d=\"M189.5,-179.5C189.5,-179.5 124.5,-179.5 124.5,-179.5 118.5,-179.5 112.5,-173.5 112.5,-167.5 112.5,-167.5 112.5,-123.5 112.5,-123.5 112.5,-117.5 118.5,-111.5 124.5,-111.5 124.5,-111.5 189.5,-111.5 189.5,-111.5 195.5,-111.5 201.5,-117.5 201.5,-123.5 201.5,-123.5 201.5,-167.5 201.5,-167.5 201.5,-173.5 195.5,-179.5 189.5,-179.5\"/>\n",
       "<text text-anchor=\"start\" x=\"135.5\" y=\"-164.3\" font-family=\"Helvetica,sans-Serif\" font-size=\"14.00\" fill=\"#000000\">gini = 0.0</text>\n",
       "<text text-anchor=\"start\" x=\"128.5\" y=\"-149.3\" font-family=\"Helvetica,sans-Serif\" font-size=\"14.00\" fill=\"#000000\">samples = 1</text>\n",
       "<text text-anchor=\"start\" x=\"120.5\" y=\"-134.3\" font-family=\"Helvetica,sans-Serif\" font-size=\"14.00\" fill=\"#000000\">value = [0, 1, 0]</text>\n",
       "<text text-anchor=\"start\" x=\"121\" y=\"-119.3\" font-family=\"Helvetica,sans-Serif\" font-size=\"14.00\" fill=\"#000000\">class = class_1</text>\n",
       "</g>\n",
       "<!-- 3&#45;&gt;5 -->\n",
       "<g id=\"edge5\" class=\"edge\">\n",
       "<title>3&#45;&gt;5</title>\n",
       "<path fill=\"none\" stroke=\"#000000\" d=\"M155.0493,-222.8796C155.3182,-212.2134 155.6084,-200.7021 155.8806,-189.9015\"/>\n",
       "<polygon fill=\"#000000\" stroke=\"#000000\" points=\"159.3817,-189.9 156.1349,-179.8149 152.3839,-189.7235 159.3817,-189.9\"/>\n",
       "</g>\n",
       "<!-- 7 -->\n",
       "<g id=\"node8\" class=\"node\">\n",
       "<title>7</title>\n",
       "<path fill=\"#8139e5\" stroke=\"#000000\" d=\"M301.5,-179.5C301.5,-179.5 236.5,-179.5 236.5,-179.5 230.5,-179.5 224.5,-173.5 224.5,-167.5 224.5,-167.5 224.5,-123.5 224.5,-123.5 224.5,-117.5 230.5,-111.5 236.5,-111.5 236.5,-111.5 301.5,-111.5 301.5,-111.5 307.5,-111.5 313.5,-117.5 313.5,-123.5 313.5,-123.5 313.5,-167.5 313.5,-167.5 313.5,-173.5 307.5,-179.5 301.5,-179.5\"/>\n",
       "<text text-anchor=\"start\" x=\"247.5\" y=\"-164.3\" font-family=\"Helvetica,sans-Serif\" font-size=\"14.00\" fill=\"#000000\">gini = 0.0</text>\n",
       "<text text-anchor=\"start\" x=\"240.5\" y=\"-149.3\" font-family=\"Helvetica,sans-Serif\" font-size=\"14.00\" fill=\"#000000\">samples = 1</text>\n",
       "<text text-anchor=\"start\" x=\"232.5\" y=\"-134.3\" font-family=\"Helvetica,sans-Serif\" font-size=\"14.00\" fill=\"#000000\">value = [0, 0, 1]</text>\n",
       "<text text-anchor=\"start\" x=\"233\" y=\"-119.3\" font-family=\"Helvetica,sans-Serif\" font-size=\"14.00\" fill=\"#000000\">class = class_2</text>\n",
       "</g>\n",
       "<!-- 6&#45;&gt;7 -->\n",
       "<g id=\"edge7\" class=\"edge\">\n",
       "<title>6&#45;&gt;7</title>\n",
       "<path fill=\"none\" stroke=\"#000000\" d=\"M270.3005,-222.8796C270.1212,-212.2134 269.9278,-200.7021 269.7462,-189.9015\"/>\n",
       "<polygon fill=\"#000000\" stroke=\"#000000\" points=\"273.2444,-189.7547 269.5767,-179.8149 266.2454,-189.8724 273.2444,-189.7547\"/>\n",
       "</g>\n",
       "<!-- 8 -->\n",
       "<g id=\"node9\" class=\"node\">\n",
       "<title>8</title>\n",
       "<path fill=\"#39e581\" stroke=\"#000000\" d=\"M408.5,-179.5C408.5,-179.5 343.5,-179.5 343.5,-179.5 337.5,-179.5 331.5,-173.5 331.5,-167.5 331.5,-167.5 331.5,-123.5 331.5,-123.5 331.5,-117.5 337.5,-111.5 343.5,-111.5 343.5,-111.5 408.5,-111.5 408.5,-111.5 414.5,-111.5 420.5,-117.5 420.5,-123.5 420.5,-123.5 420.5,-167.5 420.5,-167.5 420.5,-173.5 414.5,-179.5 408.5,-179.5\"/>\n",
       "<text text-anchor=\"start\" x=\"354.5\" y=\"-164.3\" font-family=\"Helvetica,sans-Serif\" font-size=\"14.00\" fill=\"#000000\">gini = 0.0</text>\n",
       "<text text-anchor=\"start\" x=\"347.5\" y=\"-149.3\" font-family=\"Helvetica,sans-Serif\" font-size=\"14.00\" fill=\"#000000\">samples = 5</text>\n",
       "<text text-anchor=\"start\" x=\"339.5\" y=\"-134.3\" font-family=\"Helvetica,sans-Serif\" font-size=\"14.00\" fill=\"#000000\">value = [0, 5, 0]</text>\n",
       "<text text-anchor=\"start\" x=\"340\" y=\"-119.3\" font-family=\"Helvetica,sans-Serif\" font-size=\"14.00\" fill=\"#000000\">class = class_1</text>\n",
       "</g>\n",
       "<!-- 6&#45;&gt;8 -->\n",
       "<g id=\"edge8\" class=\"edge\">\n",
       "<title>6&#45;&gt;8</title>\n",
       "<path fill=\"none\" stroke=\"#000000\" d=\"M307.7239,-222.8796C317.8144,-211.4436 328.7621,-199.0363 338.875,-187.575\"/>\n",
       "<polygon fill=\"#000000\" stroke=\"#000000\" points=\"341.7303,-189.629 345.7221,-179.8149 336.4814,-184.9977 341.7303,-189.629\"/>\n",
       "</g>\n",
       "<!-- 10 -->\n",
       "<g id=\"node11\" class=\"node\">\n",
       "<title>10</title>\n",
       "<path fill=\"#8139e5\" stroke=\"#000000\" d=\"M417.5,-298.5C417.5,-298.5 352.5,-298.5 352.5,-298.5 346.5,-298.5 340.5,-292.5 340.5,-286.5 340.5,-286.5 340.5,-242.5 340.5,-242.5 340.5,-236.5 346.5,-230.5 352.5,-230.5 352.5,-230.5 417.5,-230.5 417.5,-230.5 423.5,-230.5 429.5,-236.5 429.5,-242.5 429.5,-242.5 429.5,-286.5 429.5,-286.5 429.5,-292.5 423.5,-298.5 417.5,-298.5\"/>\n",
       "<text text-anchor=\"start\" x=\"363.5\" y=\"-283.3\" font-family=\"Helvetica,sans-Serif\" font-size=\"14.00\" fill=\"#000000\">gini = 0.0</text>\n",
       "<text text-anchor=\"start\" x=\"356.5\" y=\"-268.3\" font-family=\"Helvetica,sans-Serif\" font-size=\"14.00\" fill=\"#000000\">samples = 2</text>\n",
       "<text text-anchor=\"start\" x=\"348.5\" y=\"-253.3\" font-family=\"Helvetica,sans-Serif\" font-size=\"14.00\" fill=\"#000000\">value = [0, 0, 2]</text>\n",
       "<text text-anchor=\"start\" x=\"349\" y=\"-238.3\" font-family=\"Helvetica,sans-Serif\" font-size=\"14.00\" fill=\"#000000\">class = class_2</text>\n",
       "</g>\n",
       "<!-- 9&#45;&gt;10 -->\n",
       "<g id=\"edge10\" class=\"edge\">\n",
       "<title>9&#45;&gt;10</title>\n",
       "<path fill=\"none\" stroke=\"#000000\" d=\"M401.9065,-341.8796C399.576,-331.2134 397.061,-319.7021 394.7012,-308.9015\"/>\n",
       "<polygon fill=\"#000000\" stroke=\"#000000\" points=\"398.0513,-307.8374 392.4974,-298.8149 391.2126,-309.3316 398.0513,-307.8374\"/>\n",
       "</g>\n",
       "<!-- 11 -->\n",
       "<g id=\"node12\" class=\"node\">\n",
       "<title>11</title>\n",
       "<path fill=\"#39e581\" fill-opacity=\"0.968627\" stroke=\"#000000\" d=\"M530,-306C530,-306 460,-306 460,-306 454,-306 448,-300 448,-294 448,-294 448,-235 448,-235 448,-229 454,-223 460,-223 460,-223 530,-223 530,-223 536,-223 542,-229 542,-235 542,-235 542,-294 542,-294 542,-300 536,-306 530,-306\"/>\n",
       "<text text-anchor=\"start\" x=\"456.5\" y=\"-290.8\" font-family=\"Helvetica,sans-Serif\" font-size=\"14.00\" fill=\"#000000\">alcohol ≤ 13.175</text>\n",
       "<text text-anchor=\"start\" x=\"467.5\" y=\"-275.8\" font-family=\"Helvetica,sans-Serif\" font-size=\"14.00\" fill=\"#000000\">gini = 0.061</text>\n",
       "<text text-anchor=\"start\" x=\"463.5\" y=\"-260.8\" font-family=\"Helvetica,sans-Serif\" font-size=\"14.00\" fill=\"#000000\">samples = 63</text>\n",
       "<text text-anchor=\"start\" x=\"456\" y=\"-245.8\" font-family=\"Helvetica,sans-Serif\" font-size=\"14.00\" fill=\"#000000\">value = [2, 61, 0]</text>\n",
       "<text text-anchor=\"start\" x=\"459\" y=\"-230.8\" font-family=\"Helvetica,sans-Serif\" font-size=\"14.00\" fill=\"#000000\">class = class_1</text>\n",
       "</g>\n",
       "<!-- 9&#45;&gt;11 -->\n",
       "<g id=\"edge11\" class=\"edge\">\n",
       "<title>9&#45;&gt;11</title>\n",
       "<path fill=\"none\" stroke=\"#000000\" d=\"M440.3791,-341.8796C446.6094,-333.0534 453.2481,-323.6485 459.673,-314.5466\"/>\n",
       "<polygon fill=\"#000000\" stroke=\"#000000\" points=\"462.588,-316.4862 465.4955,-306.2981 456.8692,-312.4494 462.588,-316.4862\"/>\n",
       "</g>\n",
       "<!-- 12 -->\n",
       "<g id=\"node13\" class=\"node\">\n",
       "<title>12</title>\n",
       "<path fill=\"#39e581\" stroke=\"#000000\" d=\"M526,-179.5C526,-179.5 456,-179.5 456,-179.5 450,-179.5 444,-173.5 444,-167.5 444,-167.5 444,-123.5 444,-123.5 444,-117.5 450,-111.5 456,-111.5 456,-111.5 526,-111.5 526,-111.5 532,-111.5 538,-117.5 538,-123.5 538,-123.5 538,-167.5 538,-167.5 538,-173.5 532,-179.5 526,-179.5\"/>\n",
       "<text text-anchor=\"start\" x=\"469.5\" y=\"-164.3\" font-family=\"Helvetica,sans-Serif\" font-size=\"14.00\" fill=\"#000000\">gini = 0.0</text>\n",
       "<text text-anchor=\"start\" x=\"459.5\" y=\"-149.3\" font-family=\"Helvetica,sans-Serif\" font-size=\"14.00\" fill=\"#000000\">samples = 58</text>\n",
       "<text text-anchor=\"start\" x=\"452\" y=\"-134.3\" font-family=\"Helvetica,sans-Serif\" font-size=\"14.00\" fill=\"#000000\">value = [0, 58, 0]</text>\n",
       "<text text-anchor=\"start\" x=\"455\" y=\"-119.3\" font-family=\"Helvetica,sans-Serif\" font-size=\"14.00\" fill=\"#000000\">class = class_1</text>\n",
       "</g>\n",
       "<!-- 11&#45;&gt;12 -->\n",
       "<g id=\"edge12\" class=\"edge\">\n",
       "<title>11&#45;&gt;12</title>\n",
       "<path fill=\"none\" stroke=\"#000000\" d=\"M493.601,-222.8796C493.2425,-212.2134 492.8555,-200.7021 492.4925,-189.9015\"/>\n",
       "<polygon fill=\"#000000\" stroke=\"#000000\" points=\"495.9875,-189.6917 492.1534,-179.8149 488.9915,-189.9269 495.9875,-189.6917\"/>\n",
       "</g>\n",
       "<!-- 13 -->\n",
       "<g id=\"node14\" class=\"node\">\n",
       "<title>13</title>\n",
       "<path fill=\"#39e581\" fill-opacity=\"0.333333\" stroke=\"#000000\" d=\"M648,-187C648,-187 568,-187 568,-187 562,-187 556,-181 556,-175 556,-175 556,-116 556,-116 556,-110 562,-104 568,-104 568,-104 648,-104 648,-104 654,-104 660,-110 660,-116 660,-116 660,-175 660,-175 660,-181 654,-187 648,-187\"/>\n",
       "<text text-anchor=\"start\" x=\"564\" y=\"-171.8\" font-family=\"Helvetica,sans-Serif\" font-size=\"14.00\" fill=\"#000000\">malic_acid ≤ 2.125</text>\n",
       "<text text-anchor=\"start\" x=\"583.5\" y=\"-156.8\" font-family=\"Helvetica,sans-Serif\" font-size=\"14.00\" fill=\"#000000\">gini = 0.48</text>\n",
       "<text text-anchor=\"start\" x=\"579.5\" y=\"-141.8\" font-family=\"Helvetica,sans-Serif\" font-size=\"14.00\" fill=\"#000000\">samples = 5</text>\n",
       "<text text-anchor=\"start\" x=\"571.5\" y=\"-126.8\" font-family=\"Helvetica,sans-Serif\" font-size=\"14.00\" fill=\"#000000\">value = [2, 3, 0]</text>\n",
       "<text text-anchor=\"start\" x=\"572\" y=\"-111.8\" font-family=\"Helvetica,sans-Serif\" font-size=\"14.00\" fill=\"#000000\">class = class_1</text>\n",
       "</g>\n",
       "<!-- 11&#45;&gt;13 -->\n",
       "<g id=\"edge13\" class=\"edge\">\n",
       "<title>11&#45;&gt;13</title>\n",
       "<path fill=\"none\" stroke=\"#000000\" d=\"M534.5219,-222.8796C543.1597,-213.7832 552.381,-204.0722 561.2697,-194.7116\"/>\n",
       "<polygon fill=\"#000000\" stroke=\"#000000\" points=\"563.9615,-196.9597 568.3094,-187.2981 558.8854,-192.1395 563.9615,-196.9597\"/>\n",
       "</g>\n",
       "<!-- 14 -->\n",
       "<g id=\"node15\" class=\"node\">\n",
       "<title>14</title>\n",
       "<path fill=\"#39e581\" stroke=\"#000000\" d=\"M586.5,-68C586.5,-68 521.5,-68 521.5,-68 515.5,-68 509.5,-62 509.5,-56 509.5,-56 509.5,-12 509.5,-12 509.5,-6 515.5,0 521.5,0 521.5,0 586.5,0 586.5,0 592.5,0 598.5,-6 598.5,-12 598.5,-12 598.5,-56 598.5,-56 598.5,-62 592.5,-68 586.5,-68\"/>\n",
       "<text text-anchor=\"start\" x=\"532.5\" y=\"-52.8\" font-family=\"Helvetica,sans-Serif\" font-size=\"14.00\" fill=\"#000000\">gini = 0.0</text>\n",
       "<text text-anchor=\"start\" x=\"525.5\" y=\"-37.8\" font-family=\"Helvetica,sans-Serif\" font-size=\"14.00\" fill=\"#000000\">samples = 3</text>\n",
       "<text text-anchor=\"start\" x=\"517.5\" y=\"-22.8\" font-family=\"Helvetica,sans-Serif\" font-size=\"14.00\" fill=\"#000000\">value = [0, 3, 0]</text>\n",
       "<text text-anchor=\"start\" x=\"518\" y=\"-7.8\" font-family=\"Helvetica,sans-Serif\" font-size=\"14.00\" fill=\"#000000\">class = class_1</text>\n",
       "</g>\n",
       "<!-- 13&#45;&gt;14 -->\n",
       "<g id=\"edge14\" class=\"edge\">\n",
       "<title>13&#45;&gt;14</title>\n",
       "<path fill=\"none\" stroke=\"#000000\" d=\"M587.8924,-103.9815C583.7084,-95.3423 579.2877,-86.2144 575.0701,-77.5059\"/>\n",
       "<polygon fill=\"#000000\" stroke=\"#000000\" points=\"578.1029,-75.7382 570.5941,-68.2637 571.8029,-78.7893 578.1029,-75.7382\"/>\n",
       "</g>\n",
       "<!-- 15 -->\n",
       "<g id=\"node16\" class=\"node\">\n",
       "<title>15</title>\n",
       "<path fill=\"#e58139\" stroke=\"#000000\" d=\"M693.5,-68C693.5,-68 628.5,-68 628.5,-68 622.5,-68 616.5,-62 616.5,-56 616.5,-56 616.5,-12 616.5,-12 616.5,-6 622.5,0 628.5,0 628.5,0 693.5,0 693.5,0 699.5,0 705.5,-6 705.5,-12 705.5,-12 705.5,-56 705.5,-56 705.5,-62 699.5,-68 693.5,-68\"/>\n",
       "<text text-anchor=\"start\" x=\"639.5\" y=\"-52.8\" font-family=\"Helvetica,sans-Serif\" font-size=\"14.00\" fill=\"#000000\">gini = 0.0</text>\n",
       "<text text-anchor=\"start\" x=\"632.5\" y=\"-37.8\" font-family=\"Helvetica,sans-Serif\" font-size=\"14.00\" fill=\"#000000\">samples = 2</text>\n",
       "<text text-anchor=\"start\" x=\"624.5\" y=\"-22.8\" font-family=\"Helvetica,sans-Serif\" font-size=\"14.00\" fill=\"#000000\">value = [2, 0, 0]</text>\n",
       "<text text-anchor=\"start\" x=\"625\" y=\"-7.8\" font-family=\"Helvetica,sans-Serif\" font-size=\"14.00\" fill=\"#000000\">class = class_0</text>\n",
       "</g>\n",
       "<!-- 13&#45;&gt;15 -->\n",
       "<g id=\"edge15\" class=\"edge\">\n",
       "<title>13&#45;&gt;15</title>\n",
       "<path fill=\"none\" stroke=\"#000000\" d=\"M627.7352,-103.9815C631.8418,-95.3423 636.1806,-86.2144 640.3201,-77.5059\"/>\n",
       "<polygon fill=\"#000000\" stroke=\"#000000\" points=\"643.5812,-78.7979 644.7132,-68.2637 637.2591,-75.7927 643.5812,-78.7979\"/>\n",
       "</g>\n",
       "<!-- 17 -->\n",
       "<g id=\"node18\" class=\"node\">\n",
       "<title>17</title>\n",
       "<path fill=\"#8139e5\" fill-opacity=\"0.666667\" stroke=\"#000000\" d=\"M683,-425C683,-425 617,-425 617,-425 611,-425 605,-419 605,-413 605,-413 605,-354 605,-354 605,-348 611,-342 617,-342 617,-342 683,-342 683,-342 689,-342 695,-348 695,-354 695,-354 695,-413 695,-413 695,-419 689,-425 683,-425\"/>\n",
       "<text text-anchor=\"start\" x=\"613\" y=\"-409.8\" font-family=\"Helvetica,sans-Serif\" font-size=\"14.00\" fill=\"#000000\">flavanoids ≤ 0.9</text>\n",
       "<text text-anchor=\"start\" x=\"622.5\" y=\"-394.8\" font-family=\"Helvetica,sans-Serif\" font-size=\"14.00\" fill=\"#000000\">gini = 0.375</text>\n",
       "<text text-anchor=\"start\" x=\"621.5\" y=\"-379.8\" font-family=\"Helvetica,sans-Serif\" font-size=\"14.00\" fill=\"#000000\">samples = 8</text>\n",
       "<text text-anchor=\"start\" x=\"613.5\" y=\"-364.8\" font-family=\"Helvetica,sans-Serif\" font-size=\"14.00\" fill=\"#000000\">value = [0, 2, 6]</text>\n",
       "<text text-anchor=\"start\" x=\"614\" y=\"-349.8\" font-family=\"Helvetica,sans-Serif\" font-size=\"14.00\" fill=\"#000000\">class = class_2</text>\n",
       "</g>\n",
       "<!-- 16&#45;&gt;17 -->\n",
       "<g id=\"edge17\" class=\"edge\">\n",
       "<title>16&#45;&gt;17</title>\n",
       "<path fill=\"none\" stroke=\"#000000\" d=\"M650,-460.8796C650,-452.6838 650,-443.9891 650,-435.5013\"/>\n",
       "<polygon fill=\"#000000\" stroke=\"#000000\" points=\"653.5001,-435.298 650,-425.2981 646.5001,-435.2981 653.5001,-435.298\"/>\n",
       "</g>\n",
       "<!-- 20 -->\n",
       "<g id=\"node21\" class=\"node\">\n",
       "<title>20</title>\n",
       "<path fill=\"#e58139\" fill-opacity=\"0.964706\" stroke=\"#000000\" d=\"M867.5,-425C867.5,-425 770.5,-425 770.5,-425 764.5,-425 758.5,-419 758.5,-413 758.5,-413 758.5,-354 758.5,-354 758.5,-348 764.5,-342 770.5,-342 770.5,-342 867.5,-342 867.5,-342 873.5,-342 879.5,-348 879.5,-354 879.5,-354 879.5,-413 879.5,-413 879.5,-419 873.5,-425 867.5,-425\"/>\n",
       "<text text-anchor=\"start\" x=\"766.5\" y=\"-409.8\" font-family=\"Helvetica,sans-Serif\" font-size=\"14.00\" fill=\"#000000\">color_intensity ≤ 3.435</text>\n",
       "<text text-anchor=\"start\" x=\"791.5\" y=\"-394.8\" font-family=\"Helvetica,sans-Serif\" font-size=\"14.00\" fill=\"#000000\">gini = 0.065</text>\n",
       "<text text-anchor=\"start\" x=\"787.5\" y=\"-379.8\" font-family=\"Helvetica,sans-Serif\" font-size=\"14.00\" fill=\"#000000\">samples = 59</text>\n",
       "<text text-anchor=\"start\" x=\"780\" y=\"-364.8\" font-family=\"Helvetica,sans-Serif\" font-size=\"14.00\" fill=\"#000000\">value = [57, 2, 0]</text>\n",
       "<text text-anchor=\"start\" x=\"783\" y=\"-349.8\" font-family=\"Helvetica,sans-Serif\" font-size=\"14.00\" fill=\"#000000\">class = class_0</text>\n",
       "</g>\n",
       "<!-- 16&#45;&gt;20 -->\n",
       "<g id=\"edge20\" class=\"edge\">\n",
       "<title>16&#45;&gt;20</title>\n",
       "<path fill=\"none\" stroke=\"#000000\" d=\"M701.1642,-466.4731C717.1105,-455.2446 734.9432,-442.6879 751.8138,-430.8086\"/>\n",
       "<polygon fill=\"#000000\" stroke=\"#000000\" points=\"753.8447,-433.6593 760.006,-425.0401 749.8145,-427.9358 753.8447,-433.6593\"/>\n",
       "</g>\n",
       "<!-- 18 -->\n",
       "<g id=\"node19\" class=\"node\">\n",
       "<title>18</title>\n",
       "<path fill=\"#8139e5\" stroke=\"#000000\" d=\"M637.5,-298.5C637.5,-298.5 572.5,-298.5 572.5,-298.5 566.5,-298.5 560.5,-292.5 560.5,-286.5 560.5,-286.5 560.5,-242.5 560.5,-242.5 560.5,-236.5 566.5,-230.5 572.5,-230.5 572.5,-230.5 637.5,-230.5 637.5,-230.5 643.5,-230.5 649.5,-236.5 649.5,-242.5 649.5,-242.5 649.5,-286.5 649.5,-286.5 649.5,-292.5 643.5,-298.5 637.5,-298.5\"/>\n",
       "<text text-anchor=\"start\" x=\"583.5\" y=\"-283.3\" font-family=\"Helvetica,sans-Serif\" font-size=\"14.00\" fill=\"#000000\">gini = 0.0</text>\n",
       "<text text-anchor=\"start\" x=\"576.5\" y=\"-268.3\" font-family=\"Helvetica,sans-Serif\" font-size=\"14.00\" fill=\"#000000\">samples = 6</text>\n",
       "<text text-anchor=\"start\" x=\"568.5\" y=\"-253.3\" font-family=\"Helvetica,sans-Serif\" font-size=\"14.00\" fill=\"#000000\">value = [0, 0, 6]</text>\n",
       "<text text-anchor=\"start\" x=\"569\" y=\"-238.3\" font-family=\"Helvetica,sans-Serif\" font-size=\"14.00\" fill=\"#000000\">class = class_2</text>\n",
       "</g>\n",
       "<!-- 17&#45;&gt;18 -->\n",
       "<g id=\"edge18\" class=\"edge\">\n",
       "<title>17&#45;&gt;18</title>\n",
       "<path fill=\"none\" stroke=\"#000000\" d=\"M634.2612,-341.8796C630.1446,-330.9935 625.6951,-319.227 621.5382,-308.2344\"/>\n",
       "<polygon fill=\"#000000\" stroke=\"#000000\" points=\"624.7871,-306.9305 617.9762,-298.8149 618.2396,-309.4065 624.7871,-306.9305\"/>\n",
       "</g>\n",
       "<!-- 19 -->\n",
       "<g id=\"node20\" class=\"node\">\n",
       "<title>19</title>\n",
       "<path fill=\"#39e581\" stroke=\"#000000\" d=\"M744.5,-298.5C744.5,-298.5 679.5,-298.5 679.5,-298.5 673.5,-298.5 667.5,-292.5 667.5,-286.5 667.5,-286.5 667.5,-242.5 667.5,-242.5 667.5,-236.5 673.5,-230.5 679.5,-230.5 679.5,-230.5 744.5,-230.5 744.5,-230.5 750.5,-230.5 756.5,-236.5 756.5,-242.5 756.5,-242.5 756.5,-286.5 756.5,-286.5 756.5,-292.5 750.5,-298.5 744.5,-298.5\"/>\n",
       "<text text-anchor=\"start\" x=\"690.5\" y=\"-283.3\" font-family=\"Helvetica,sans-Serif\" font-size=\"14.00\" fill=\"#000000\">gini = 0.0</text>\n",
       "<text text-anchor=\"start\" x=\"683.5\" y=\"-268.3\" font-family=\"Helvetica,sans-Serif\" font-size=\"14.00\" fill=\"#000000\">samples = 2</text>\n",
       "<text text-anchor=\"start\" x=\"675.5\" y=\"-253.3\" font-family=\"Helvetica,sans-Serif\" font-size=\"14.00\" fill=\"#000000\">value = [0, 2, 0]</text>\n",
       "<text text-anchor=\"start\" x=\"676\" y=\"-238.3\" font-family=\"Helvetica,sans-Serif\" font-size=\"14.00\" fill=\"#000000\">class = class_1</text>\n",
       "</g>\n",
       "<!-- 17&#45;&gt;19 -->\n",
       "<g id=\"edge19\" class=\"edge\">\n",
       "<title>17&#45;&gt;19</title>\n",
       "<path fill=\"none\" stroke=\"#000000\" d=\"M671.6846,-341.8796C677.4136,-330.8835 683.6106,-318.9893 689.3874,-307.9015\"/>\n",
       "<polygon fill=\"#000000\" stroke=\"#000000\" points=\"692.605,-309.3007 694.1216,-298.8149 686.397,-306.0662 692.605,-309.3007\"/>\n",
       "</g>\n",
       "<!-- 21 -->\n",
       "<g id=\"node22\" class=\"node\">\n",
       "<title>21</title>\n",
       "<path fill=\"#39e581\" stroke=\"#000000\" d=\"M851.5,-298.5C851.5,-298.5 786.5,-298.5 786.5,-298.5 780.5,-298.5 774.5,-292.5 774.5,-286.5 774.5,-286.5 774.5,-242.5 774.5,-242.5 774.5,-236.5 780.5,-230.5 786.5,-230.5 786.5,-230.5 851.5,-230.5 851.5,-230.5 857.5,-230.5 863.5,-236.5 863.5,-242.5 863.5,-242.5 863.5,-286.5 863.5,-286.5 863.5,-292.5 857.5,-298.5 851.5,-298.5\"/>\n",
       "<text text-anchor=\"start\" x=\"797.5\" y=\"-283.3\" font-family=\"Helvetica,sans-Serif\" font-size=\"14.00\" fill=\"#000000\">gini = 0.0</text>\n",
       "<text text-anchor=\"start\" x=\"790.5\" y=\"-268.3\" font-family=\"Helvetica,sans-Serif\" font-size=\"14.00\" fill=\"#000000\">samples = 2</text>\n",
       "<text text-anchor=\"start\" x=\"782.5\" y=\"-253.3\" font-family=\"Helvetica,sans-Serif\" font-size=\"14.00\" fill=\"#000000\">value = [0, 2, 0]</text>\n",
       "<text text-anchor=\"start\" x=\"783\" y=\"-238.3\" font-family=\"Helvetica,sans-Serif\" font-size=\"14.00\" fill=\"#000000\">class = class_1</text>\n",
       "</g>\n",
       "<!-- 20&#45;&gt;21 -->\n",
       "<g id=\"edge21\" class=\"edge\">\n",
       "<title>20&#45;&gt;21</title>\n",
       "<path fill=\"none\" stroke=\"#000000\" d=\"M819,-341.8796C819,-331.2134 819,-319.7021 819,-308.9015\"/>\n",
       "<polygon fill=\"#000000\" stroke=\"#000000\" points=\"822.5001,-308.8149 819,-298.8149 815.5001,-308.815 822.5001,-308.8149\"/>\n",
       "</g>\n",
       "<!-- 22 -->\n",
       "<g id=\"node23\" class=\"node\">\n",
       "<title>22</title>\n",
       "<path fill=\"#e58139\" stroke=\"#000000\" d=\"M964,-298.5C964,-298.5 894,-298.5 894,-298.5 888,-298.5 882,-292.5 882,-286.5 882,-286.5 882,-242.5 882,-242.5 882,-236.5 888,-230.5 894,-230.5 894,-230.5 964,-230.5 964,-230.5 970,-230.5 976,-236.5 976,-242.5 976,-242.5 976,-286.5 976,-286.5 976,-292.5 970,-298.5 964,-298.5\"/>\n",
       "<text text-anchor=\"start\" x=\"907.5\" y=\"-283.3\" font-family=\"Helvetica,sans-Serif\" font-size=\"14.00\" fill=\"#000000\">gini = 0.0</text>\n",
       "<text text-anchor=\"start\" x=\"897.5\" y=\"-268.3\" font-family=\"Helvetica,sans-Serif\" font-size=\"14.00\" fill=\"#000000\">samples = 57</text>\n",
       "<text text-anchor=\"start\" x=\"890\" y=\"-253.3\" font-family=\"Helvetica,sans-Serif\" font-size=\"14.00\" fill=\"#000000\">value = [57, 0, 0]</text>\n",
       "<text text-anchor=\"start\" x=\"893\" y=\"-238.3\" font-family=\"Helvetica,sans-Serif\" font-size=\"14.00\" fill=\"#000000\">class = class_0</text>\n",
       "</g>\n",
       "<!-- 20&#45;&gt;22 -->\n",
       "<g id=\"edge22\" class=\"edge\">\n",
       "<title>20&#45;&gt;22</title>\n",
       "<path fill=\"none\" stroke=\"#000000\" d=\"M857.4727,-341.8796C868.1453,-330.3337 879.7333,-317.7976 890.4125,-306.2446\"/>\n",
       "<polygon fill=\"#000000\" stroke=\"#000000\" points=\"893.0625,-308.534 897.2803,-298.8149 887.9222,-303.7825 893.0625,-308.534\"/>\n",
       "</g>\n",
       "</g>\n",
       "</svg>\n"
      ],
      "text/plain": [
       "<graphviz.files.Source at 0x116c7f470>"
      ]
     },
     "execution_count": 52,
     "metadata": {},
     "output_type": "execute_result"
    }
   ],
   "source": [
    "graph"
   ]
  },
  {
   "cell_type": "code",
   "execution_count": null,
   "metadata": {},
   "outputs": [],
   "source": []
  }
 ],
 "metadata": {
  "kernelspec": {
   "display_name": "Python 3",
   "language": "python",
   "name": "python3"
  },
  "language_info": {
   "codemirror_mode": {
    "name": "ipython",
    "version": 3
   },
   "file_extension": ".py",
   "mimetype": "text/x-python",
   "name": "python",
   "nbconvert_exporter": "python",
   "pygments_lexer": "ipython3",
   "version": "3.6.4"
  }
 },
 "nbformat": 4,
 "nbformat_minor": 2
}
